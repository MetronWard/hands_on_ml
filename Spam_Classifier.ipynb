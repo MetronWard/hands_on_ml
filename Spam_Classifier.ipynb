{
  "nbformat": 4,
  "nbformat_minor": 0,
  "metadata": {
    "colab": {
      "provenance": [],
      "authorship_tag": "ABX9TyMpVuuKS62WddAYeGFT/YFM",
      "include_colab_link": true
    },
    "kernelspec": {
      "name": "python3",
      "display_name": "Python 3"
    },
    "language_info": {
      "name": "python"
    }
  },
  "cells": [
    {
      "cell_type": "markdown",
      "metadata": {
        "id": "view-in-github",
        "colab_type": "text"
      },
      "source": [
        "<a href=\"https://colab.research.google.com/github/MetronWard/hands_on_ml/blob/main/Spam_Classifier.ipynb\" target=\"_parent\"><img src=\"https://colab.research.google.com/assets/colab-badge.svg\" alt=\"Open In Colab\"/></a>"
      ]
    },
    {
      "cell_type": "markdown",
      "source": [
        "# Downloading Data"
      ],
      "metadata": {
        "id": "KGmPZubYmQEu"
      }
    },
    {
      "cell_type": "code",
      "execution_count": 94,
      "metadata": {
        "id": "415BRvX5mCOy"
      },
      "outputs": [],
      "source": [
        "import os\n",
        "import tarfile\n",
        "import urllib.request\n",
        "\n",
        "DOWNLOAD_ROOT = \"http://spamassassin.apache.org/old/publiccorpus/\"\n",
        "HAM_URL = DOWNLOAD_ROOT + \"20021010_hard_ham.tar.bz2\"\n",
        "SPAM_URL = DOWNLOAD_ROOT + \"20030228_spam.tar.bz2\"\n",
        "SPAM_PATH = os.path.join(\"datasets\")"
      ]
    },
    {
      "cell_type": "code",
      "source": [
        "def fetch_spam_dataset(ham_url:str=HAM_URL, spam_url:str=SPAM_URL, spam_path=SPAM_PATH):\n",
        "    if not os.path.isdir(spam_path):\n",
        "        os.makedirs(spam_path)\n",
        "    for file_name, url in ((\"ham.ter.bz2\", ham_url), (\"spam.tar.bz2\", spam_url)):\n",
        "        path = os.path.join(spam_path, file_name)\n",
        "        if not os.path.isfile(path):\n",
        "            urllib.request.urlretrieve(url, path)\n",
        "        tar_bz2_file = tarfile.open(path)\n",
        "        tar_bz2_file.extractall(path=spam_path)\n",
        "        tar_bz2_file.close()"
      ],
      "metadata": {
        "id": "cj2qCRNLmv70"
      },
      "execution_count": 95,
      "outputs": []
    },
    {
      "cell_type": "code",
      "source": [
        "fetch_spam_dataset()"
      ],
      "metadata": {
        "id": "bOsTsrswm2Fh"
      },
      "execution_count": 96,
      "outputs": []
    },
    {
      "cell_type": "markdown",
      "source": [
        "# Obtaining the email data"
      ],
      "metadata": {
        "id": "tlVfmMz9M5vU"
      }
    },
    {
      "cell_type": "code",
      "source": [
        "HAM_DIR = os.path.join(SPAM_PATH, \"hard_ham\")\n",
        "SPAM_DIR = os.path.join(SPAM_PATH, \"spam\")\n",
        "\n",
        "os.remove(os.path.join(SPAM_DIR, \"cmds\"))\n",
        "\n",
        "ham_filenames = [file_name for file_name in os.listdir(HAM_DIR)]\n",
        "spam_filenames = [file_name for file_name in os.listdir(SPAM_DIR)]"
      ],
      "metadata": {
        "id": "1OY52abANIYk"
      },
      "execution_count": 97,
      "outputs": []
    },
    {
      "cell_type": "code",
      "source": [
        "for item in zip([\"Ham emails\", \"Spam emails\"], [len(ham_filenames), len(spam_filenames)]):\n",
        "  print(item)"
      ],
      "metadata": {
        "colab": {
          "base_uri": "https://localhost:8080/"
        },
        "id": "TRZFiT3MM8Zw",
        "outputId": "fa2472d7-2a18-41d0-a977-0e623bd24671"
      },
      "execution_count": 98,
      "outputs": [
        {
          "output_type": "stream",
          "name": "stdout",
          "text": [
            "('Ham emails', 250)\n",
            "('Spam emails', 500)\n"
          ]
        }
      ]
    },
    {
      "cell_type": "code",
      "source": [
        "import email\n",
        "import email.policy as policy\n",
        "\n",
        "def load_email(is_spam:bool, file_name:str, path:str):\n",
        "  dir = \"spam\" if is_spam else \"hard_ham\"\n",
        "  with open(os.path.join(path, dir, file_name), \"rb\") as file:\n",
        "    return email.parser.BytesParser(policy=policy.default).parse(file)"
      ],
      "metadata": {
        "id": "y_4-fqv6OssS"
      },
      "execution_count": 99,
      "outputs": []
    },
    {
      "cell_type": "code",
      "source": [
        "ham_files = [load_email(is_spam=False, file_name=file_name, path=SPAM_PATH) for file_name in ham_filenames]\n",
        "spam_files = [load_email(is_spam=True, file_name=file_name, path=SPAM_PATH) for file_name in spam_filenames]"
      ],
      "metadata": {
        "id": "PwrQZNxMP93N"
      },
      "execution_count": 100,
      "outputs": []
    },
    {
      "cell_type": "markdown",
      "source": [
        "# Splitting into train and test set"
      ],
      "metadata": {
        "id": "xYC38DxpSFYX"
      }
    },
    {
      "cell_type": "code",
      "source": [
        "from sklearn.model_selection import train_test_split\n",
        "import numpy as np\n",
        "\n",
        "x = np.array(ham_files + spam_files, dtype=object)\n",
        "y = np.array([1] * len(ham_files) + [0] * len(spam_files))\n",
        "\n",
        "x_train_full, x_test, y_train_full, y_test  = train_test_split(x,y, random_state=42, test_size=0.2)\n",
        "x_train, x_val, y_train, y_val = train_test_split(x_train_full, y_train_full, random_state=42, test_size=0.2)"
      ],
      "metadata": {
        "id": "xpWVYLE8SEGW"
      },
      "execution_count": 101,
      "outputs": []
    },
    {
      "cell_type": "code",
      "source": [
        "x_train.shape"
      ],
      "metadata": {
        "colab": {
          "base_uri": "https://localhost:8080/"
        },
        "id": "8n6FHQfnTXjO",
        "outputId": "b565f075-c760-4ce1-dc8b-a774bb47228e"
      },
      "execution_count": 102,
      "outputs": [
        {
          "output_type": "execute_result",
          "data": {
            "text/plain": [
              "(480,)"
            ]
          },
          "metadata": {},
          "execution_count": 102
        }
      ]
    },
    {
      "cell_type": "code",
      "source": [
        "x_test.shape"
      ],
      "metadata": {
        "colab": {
          "base_uri": "https://localhost:8080/"
        },
        "id": "5Rplw_STTg6G",
        "outputId": "24d6399a-882f-492b-b365-1e75f9e606fc"
      },
      "execution_count": 103,
      "outputs": [
        {
          "output_type": "execute_result",
          "data": {
            "text/plain": [
              "(150,)"
            ]
          },
          "metadata": {},
          "execution_count": 103
        }
      ]
    },
    {
      "cell_type": "code",
      "source": [
        "from bs4 import BeautifulSoup\n",
        "\n",
        "def html_to_text(email):\n",
        "  soup = BeautifulSoup(email)\n",
        "  links = soup.find_all(\"a\")\n",
        "  for link in links:\n",
        "    text = soup.new_tag(\"p\")\n",
        "    text.string = \"HYPERLINK\"\n",
        "    link.replace_with(text)\n",
        "  return soup.text"
      ],
      "metadata": {
        "id": "4f55fNF6Ts8p"
      },
      "execution_count": 104,
      "outputs": []
    },
    {
      "cell_type": "code",
      "source": [
        "def email_to_text_2(email):\n",
        "    soup = BeautifulSoup(email)\n",
        "    return soup.text"
      ],
      "metadata": {
        "id": "pqBNAZrSci7j"
      },
      "execution_count": 105,
      "outputs": []
    },
    {
      "cell_type": "code",
      "source": [
        "def email_to_text(email):\n",
        "  html = None\n",
        "  for part in email.walk():\n",
        "    c_type = part.get_content_type()\n",
        "    if not c_type in (\"text/plain\", \"text/html\"):\n",
        "      continue\n",
        "    try:\n",
        "      content = part.get_content()\n",
        "    except:\n",
        "      content = str(part.get_payload())\n",
        "    if c_type == \"text/plain\":\n",
        "      return content\n",
        "    else:\n",
        "      html = content\n",
        "  if html:\n",
        "    return html_to_text(html)"
      ],
      "metadata": {
        "id": "Rsg4M6X0VDG5"
      },
      "execution_count": 106,
      "outputs": []
    },
    {
      "cell_type": "code",
      "source": [
        "print(email_to_text(x_train[0]))"
      ],
      "metadata": {
        "colab": {
          "base_uri": "https://localhost:8080/"
        },
        "id": "00E87CMDUfNs",
        "outputId": "102156a5-fbf1-4610-ebb8-74174c3af38c"
      },
      "execution_count": 107,
      "outputs": [
        {
          "output_type": "stream",
          "name": "stdout",
          "text": [
            "1) Join the Web's Hottest & Fastest Growing Community\n",
            "http://www.adclick.ws/p.cfm?o=259&s=pk007\n",
            "\n",
            "2) Guaranteed to lose 10-12 lbs in 30 days\n",
            "Slim Patch - Weight Loss Patches\n",
            "http://www.adclick.ws/p.cfm?o=249&s=pk007\n",
            "\n",
            "3) Get the Child Support You Deserve - Free Legal Advice\n",
            "http://www.adclick.ws/p.cfm?o=245&s=pk002\n",
            "\n",
            "4) Fight The Risk of Cancer - Save Your Lungs\n",
            "http://www.adclick.ws/p.cfm?o=315&s=pk007\n",
            "\n",
            "5) Start Your Online Private Photo Album \n",
            "http://www.adclick.ws/p.cfm?o=285&s=pk007\n",
            "\n",
            "Have a Wonderful Day,\n",
            "Offer Manager\n",
            "PrizeMama\n",
            "\n",
            "\n",
            "\n",
            "\n",
            "\n",
            "\n",
            "\n",
            "\n",
            "\n",
            "\n",
            "\n",
            "\n",
            "If you wish to leave this list please use the link below.\n",
            "http://www.qves.com/trim/?zzzz@spamassassin.taint.org%7C17%7C308417\n",
            "\n",
            "\n"
          ]
        }
      ]
    },
    {
      "cell_type": "code",
      "source": [
        "y_train[0]"
      ],
      "metadata": {
        "colab": {
          "base_uri": "https://localhost:8080/"
        },
        "id": "TKdbGgksWBJ5",
        "outputId": "cd0eca4b-0a58-4c06-9ef7-a5112b406bb6"
      },
      "execution_count": 108,
      "outputs": [
        {
          "output_type": "execute_result",
          "data": {
            "text/plain": [
              "0"
            ]
          },
          "metadata": {},
          "execution_count": 108
        }
      ]
    },
    {
      "cell_type": "markdown",
      "source": [
        "# Defining Pipeline"
      ],
      "metadata": {
        "id": "or1F8wtoWmfx"
      }
    },
    {
      "cell_type": "code",
      "source": [
        "! pip install urlextract nltk"
      ],
      "metadata": {
        "colab": {
          "base_uri": "https://localhost:8080/"
        },
        "id": "1OD8GJl2WlbH",
        "outputId": "6a6eca38-666a-4371-9c82-e49c5ccc53b7"
      },
      "execution_count": 109,
      "outputs": [
        {
          "output_type": "stream",
          "name": "stdout",
          "text": [
            "Requirement already satisfied: urlextract in /usr/local/lib/python3.10/dist-packages (1.8.0)\n",
            "Requirement already satisfied: nltk in /usr/local/lib/python3.10/dist-packages (3.8.1)\n",
            "Requirement already satisfied: idna in /usr/local/lib/python3.10/dist-packages (from urlextract) (3.4)\n",
            "Requirement already satisfied: uritools in /usr/local/lib/python3.10/dist-packages (from urlextract) (4.0.2)\n",
            "Requirement already satisfied: platformdirs in /usr/local/lib/python3.10/dist-packages (from urlextract) (3.11.0)\n",
            "Requirement already satisfied: filelock in /usr/local/lib/python3.10/dist-packages (from urlextract) (3.12.4)\n",
            "Requirement already satisfied: click in /usr/local/lib/python3.10/dist-packages (from nltk) (8.1.7)\n",
            "Requirement already satisfied: joblib in /usr/local/lib/python3.10/dist-packages (from nltk) (1.3.2)\n",
            "Requirement already satisfied: regex>=2021.8.3 in /usr/local/lib/python3.10/dist-packages (from nltk) (2023.6.3)\n",
            "Requirement already satisfied: tqdm in /usr/local/lib/python3.10/dist-packages (from nltk) (4.66.1)\n"
          ]
        }
      ]
    },
    {
      "cell_type": "code",
      "source": [
        "import nltk\n",
        "import urlextract\n",
        "import re\n",
        "from collections import Counter\n",
        "\n",
        "stemmer = nltk.PorterStemmer()\n",
        "url_extractor = urlextract.URLExtract()"
      ],
      "metadata": {
        "id": "iqSKhvceZcsU"
      },
      "execution_count": 110,
      "outputs": []
    },
    {
      "cell_type": "code",
      "source": [
        "from sklearn.base import TransformerMixin, BaseEstimator\n",
        "\n",
        "class EmailToWordCounter(TransformerMixin, BaseEstimator):\n",
        "  def __init__(self,\n",
        "               lower_case=True,\n",
        "               replace_numbers=True,\n",
        "               replace_urls=True,\n",
        "               remove_punctuations=True,\n",
        "               stemming=True) -> None:\n",
        "    super().__init__()\n",
        "    self.lower_case = lower_case\n",
        "    self.replace_numbers = replace_numbers\n",
        "    self.replace_urls = replace_urls\n",
        "    self.stemming = stemming\n",
        "    self.remove_punctuations = remove_punctuations\n",
        "\n",
        "  def fit(self, x, y=None):\n",
        "    return self\n",
        "\n",
        "  def transform(self, x, y=None):\n",
        "    x_transformed = []\n",
        "    for email in x:\n",
        "      text = email_to_text(email) or \"\"\n",
        "      if self.lower_case:\n",
        "        text = text.lower()\n",
        "      if self.replace_urls:\n",
        "        urls = list(set(url_extractor.find_urls(text)))\n",
        "        urls.sort(key=lambda url: len(url), reverse=True)\n",
        "        for url in urls:\n",
        "          text.replace(url, \"URL\")\n",
        "      if self.replace_numbers:\n",
        "        text = re.sub(r'\\d+(?:\\.\\d*)?(?:[eE][+-]?\\d+)?', 'NUMBER', text)\n",
        "      if self.replace_numbers:\n",
        "        text = re.sub(r\"\\W+\", \" \", text, flags=re.M)\n",
        "      word_counts = Counter(text.split())\n",
        "      if self.stemming :\n",
        "        stemmed_word_count = Counter()\n",
        "        for word, count in word_counts.items():\n",
        "          stemmed_word = stemmer.stem(word)\n",
        "          stemmed_word_count[stemmed_word] += count\n",
        "        word_counts = stemmed_word_count\n",
        "        # complete.append(word_counts)\n",
        "      x_transformed.append(word_counts)\n",
        "    return np.array(x_transformed)"
      ],
      "metadata": {
        "id": "hcpbg72xW6tz"
      },
      "execution_count": 111,
      "outputs": []
    },
    {
      "cell_type": "code",
      "source": [
        "X_few = x_train[:3]\n",
        "X_few_wordcounts = EmailToWordCounter().fit_transform(X_few)"
      ],
      "metadata": {
        "id": "GqwDVAmhdRRc"
      },
      "execution_count": 112,
      "outputs": []
    },
    {
      "cell_type": "code",
      "source": [
        "X_few_wordcounts"
      ],
      "metadata": {
        "colab": {
          "base_uri": "https://localhost:8080/"
        },
        "id": "hx-7nsIAeFo2",
        "outputId": "d1f87e3a-af7f-431e-bd28-796493080919"
      },
      "execution_count": 113,
      "outputs": [
        {
          "output_type": "execute_result",
          "data": {
            "text/plain": [
              "array([Counter({'number': 13, 's': 6, 'http': 6, 'www': 6, 'adclick': 5, 'ws': 5, 'p': 5, 'cfm': 5, 'o': 5, 'pknumber': 5, 'the': 4, 'to': 2, 'day': 2, 'patch': 2, 'you': 2, 'your': 2, 'numbercnumb': 2, 'join': 1, 'web': 1, 'hottest': 1, 'fastest': 1, 'grow': 1, 'commun': 1, 'guarante': 1, 'lose': 1, 'lb': 1, 'in': 1, 'slim': 1, 'weight': 1, 'loss': 1, 'get': 1, 'child': 1, 'support': 1, 'deserv': 1, 'free': 1, 'legal': 1, 'advic': 1, 'fight': 1, 'risk': 1, 'of': 1, 'cancer': 1, 'save': 1, 'lung': 1, 'start': 1, 'onlin': 1, 'privat': 1, 'photo': 1, 'album': 1, 'have': 1, 'a': 1, 'wonder': 1, 'offer': 1, 'manag': 1, 'prizemama': 1, 'if': 1, 'wish': 1, 'leav': 1, 'thi': 1, 'list': 1, 'pleas': 1, 'use': 1, 'link': 1, 'below': 1, 'qve': 1, 'com': 1, 'trim': 1, 'zzzz': 1, 'spamassassin': 1, 'taint': 1, 'org': 1}),\n",
              "       Counter({'hyperlink': 6, 'free': 4, 'page': 4, 'to': 4, 'or': 4, 'the': 4, 'number': 4, 'save': 3, 'and': 3, 'limit': 3, 'link': 3, 'a': 3, 'softwar': 2, 'much': 2, 'more': 2, 'time': 2, 'offer': 2, 'from': 2, 'these': 2, 'onlin': 2, 'your': 2, 'mail': 2, 'for': 2, 'is': 2, 'pleas': 2, 'if': 2, 'digit': 1, 'publish': 1, 'tool': 1, 'alert': 1, 'easili': 1, 'creat': 1, 'profession': 1, 'ebook': 1, 'ebrochur': 1, 'ecatalog': 1, 'resum': 1, 'newslett': 1, 'present': 1, 'magazin': 1, 'photo': 1, 'album': 1, 'invit': 1, 'money': 1, 'tree': 1, 'on': 1, 'print': 1, 'postag': 1, 'advertis': 1, 'cost': 1, 'choos': 1, 'display': 1, 'style': 1, 'numberd': 1, 'turn': 1, 'slide': 1, 'show': 1, 'sweep': 1, 'wipe': 1, 'emb': 1, 'anywher': 1, 'such': 1, 'as': 1, 'websit': 1, 'order': 1, 'contact': 1, 'form': 1, 'distribut': 1, 'via': 1, 'floppi': 1, 'cd': 1, 'rom': 1, 'e': 1, 'take': 1, 'market': 1, 'next': 1, 'level': 1, 'info': 1, 'sampl': 1, 'download': 1, 'click': 1, 'appropri': 1, 'right': 1, 'server': 1, 'demand': 1, 'extrem': 1, 'high': 1, 'thi': 1, 'tri': 1, 'period': 1, 'site': 1, 'seem': 1, 'slow': 1, 'unreach': 1, 'you': 1, 'wish': 1, 'be': 1, 'remov': 1, 'our': 1, 'list': 1, 'cick': 1, 'unsubscrib': 1, 'button': 1, 'copyright': 1, 'affili': 1, 'id': 1, 'version': 1, 'fulli': 1, 'function': 1, 'with': 1, 'no': 1, 'expir': 1, 'ha': 1, 'spread': 1}),\n",
              "       Counter({'number': 17, 'you': 12, 'to': 11, 'in': 6, 'and': 5, 'are': 5, 'i': 5, 'will': 5, 'make': 5, 'thi': 5, 'as': 5, 'of': 5, 'the': 5, 'call': 5, 'qualifi': 4, 'per': 4, 'do': 3, 'if': 3, 'can': 3, 'or': 3, 'have': 3, 'money': 3, 'a': 2, 'motiv': 2, 'day': 2, 'that': 2, 'we': 2, 'time': 2, 'hour': 2, 'week': 2, 'my': 2, 'excess': 2, 'gener': 2, 'who': 2, 'be': 2, 'need': 2, 'peopl': 2, 'larg': 2, 'amount': 2, 'want': 1, 'teach': 1, 'grow': 1, 'rich': 1, 'commun': 1, 'person': 1, 'train': 1, 'minut': 1, 'present': 1, 'prospect': 1, 'provid': 1, 'demonstr': 1, 'part': 1, 'use': 1, 'system': 1, 'case': 1, 'am': 1, 'current': 1, 'verifi': 1, 'by': 1, 'way': 1, 'plu': 1, 'introduc': 1, 'mentor': 1, 'well': 1, 'annual': 1, 'mani': 1, 'few': 1, 'chosen': 1, 'opportun': 1, 'limit': 1, 'one': 1, 'individu': 1, 'state': 1, 'pre': 1, 'record': 1, 'messag': 1, 'below': 1, 'take': 1, 'much': 1, 'littl': 1, 'see': 1, 'program': 1, 'is': 1, 'right': 1, 'for': 1, 'pleas': 1, 'not': 1, 'unless': 1, 'genuin': 1, 'alreadi': 1, 'skill': 1, 'place': 1, 'either': 1, 'made': 1, 'past': 1, 'readi': 1, 'futur': 1, 'look': 1, 'forward': 1, 'your': 1, '_______________________________________________________________': 1, 'taken': 1, 'out': 1, 'databas': 1, 'bennonumb': 1, 'witti': 1, 'com': 1, 'numberrmxanumb': 1, 'numberlwkknumbernyqrnumb': 1, 'numberbtqinumberawllnumb': 1, 'numberbrcxnumbernxuvnumb': 1, 'numberlnumb': 1, 'numberwctgnumb': 1, 'numberpbkgnumberzionnumb': 1, 'numberxctanumberngxlnumb': 1, 'numbershbynumbermhhnnumb': 1, 'numberhlnumb': 1})],\n",
              "      dtype=object)"
            ]
          },
          "metadata": {},
          "execution_count": 113
        }
      ]
    },
    {
      "cell_type": "code",
      "source": [
        "from scipy.sparse import csr_matrix\n",
        "\n",
        "class WordCounterVector(BaseEstimator, TransformerMixin):\n",
        "\n",
        "  def __init__(self, vocabulary_size):\n",
        "    self.vocabulary_size = vocabulary_size\n",
        "\n",
        "  def fit(self, x, y=None):\n",
        "    total_count = Counter()\n",
        "    for word_count in x:\n",
        "      for word, count in word_count.items():\n",
        "        total_count[word] += min(count, 10)\n",
        "    most_common = total_count.most_common()[:self.vocabulary_size]\n",
        "    self.vocabulary_ = {word:index+1 for index, (word, count) in enumerate(most_common)}\n",
        "    return self\n",
        "\n",
        "  def transform(self, x, y=None):\n",
        "    rows = []\n",
        "    cols = []\n",
        "    data = []\n",
        "    for row, word_counts in enumerate(x):\n",
        "      for word, count in word_counts.items():\n",
        "        rows.append(row)\n",
        "        cols.append(self.vocabulary_.get(word, 0))\n",
        "        data.append(count)\n",
        "    return csr_matrix((data, (rows, cols)), shape=(len(x), self.vocabulary_size + 1))"
      ],
      "metadata": {
        "id": "X8Z8WPl_f1Hv"
      },
      "execution_count": 114,
      "outputs": []
    },
    {
      "cell_type": "code",
      "source": [
        "vocab_transformer = WordCounterVector(vocabulary_size=10)\n",
        "X_few_vectors = vocab_transformer.fit_transform(X_few_wordcounts)\n",
        "X_few_vectors"
      ],
      "metadata": {
        "colab": {
          "base_uri": "https://localhost:8080/"
        },
        "id": "T-dIl3O2iIDk",
        "outputId": "a3216df7-fcef-48ac-ada4-90e9a030a931"
      },
      "execution_count": 115,
      "outputs": [
        {
          "output_type": "execute_result",
          "data": {
            "text/plain": [
              "<3x11 sparse matrix of type '<class 'numpy.int64'>'\n",
              "\twith 26 stored elements in Compressed Sparse Row format>"
            ]
          },
          "metadata": {},
          "execution_count": 115
        }
      ]
    },
    {
      "cell_type": "code",
      "source": [
        "X_few_vectors.toarray()"
      ],
      "metadata": {
        "colab": {
          "base_uri": "https://localhost:8080/"
        },
        "id": "GHb55pG4iKQH",
        "outputId": "707e87dc-336f-4337-a521-a7e16fdaa5e9"
      },
      "execution_count": 116,
      "outputs": [
        {
          "output_type": "execute_result",
          "data": {
            "text/plain": [
              "array([[ 95,  13,   2,   4,   2,   0,   1,   1,   0,   6,   6],\n",
              "       [140,   4,   4,   4,   1,   3,   0,   1,   4,   0,   0],\n",
              "       [170,  17,  11,   5,  12,   5,   6,   5,   3,   0,   0]])"
            ]
          },
          "metadata": {},
          "execution_count": 116
        }
      ]
    },
    {
      "cell_type": "code",
      "source": [
        "from sklearn.pipeline import Pipeline\n",
        "\n",
        "processin_pipeline = Pipeline([\n",
        "    (\"email_to_word\", EmailToWordCounter()),\n",
        "    (\"wordcount_to_vector\", WordCounterVector(vocabulary_size=100))\n",
        "])"
      ],
      "metadata": {
        "id": "QjLqAzrcilOL"
      },
      "execution_count": 117,
      "outputs": []
    },
    {
      "cell_type": "code",
      "source": [
        "x_train_scaled = processin_pipeline.fit_transform(x_train)\n",
        "x_test_scaled = processin_pipeline.transform(x_test)\n",
        "x_valid_scaled = processin_pipeline.transform(x_val)"
      ],
      "metadata": {
        "id": "B8JlN3_1ja2a"
      },
      "execution_count": 118,
      "outputs": []
    },
    {
      "cell_type": "markdown",
      "source": [
        "# Training Model"
      ],
      "metadata": {
        "id": "fQ4m7KUcvVks"
      }
    },
    {
      "cell_type": "code",
      "source": [
        "from tensorflow.keras.layers import Dense, Input\n",
        "from tensorflow.keras.models import Sequential\n",
        "import tensorflow as tf\n",
        "from tensorflow import keras\n",
        "\n",
        "model = Sequential([\n",
        "    Input(shape=x_train_scaled.shape[1:], name=\"Input_Layer\"),\n",
        "    Dense(101, activation=\"relu\", name=\"Dense_1\"),\n",
        "    Dense(50, activation=\"relu\", name=\"Dense_2\"),\n",
        "    Dense(40, activation=\"relu\", name=\"Dense_3\"),\n",
        "    Dense(10, activation=\"relu\", name=\"Dense_4\"),\n",
        "    Dense(1, activation=\"sigmoid\", name=\"Output\"),\n",
        "], name=\"Spam_Detector\")"
      ],
      "metadata": {
        "id": "MGP3IVQsov9p"
      },
      "execution_count": 133,
      "outputs": []
    },
    {
      "cell_type": "code",
      "source": [
        "model.compile(loss=tf.keras.losses.BinaryCrossentropy(),\n",
        "              optimizer=tf.keras.optimizers.Adam(learning_rate=0.001),\n",
        "              metrics=[\"accuracy\"])\n",
        "history = model.fit(x_train_scaled, y_train, epochs=45, validation_data=(x_valid_scaled,y_val))"
      ],
      "metadata": {
        "colab": {
          "base_uri": "https://localhost:8080/"
        },
        "id": "wxsSj2mJqvCm",
        "outputId": "d3f04b72-e4a8-4d5b-d99c-b576e3f63726"
      },
      "execution_count": 134,
      "outputs": [
        {
          "output_type": "stream",
          "name": "stdout",
          "text": [
            "Epoch 1/45\n",
            "15/15 [==============================] - 2s 15ms/step - loss: 2.9061 - accuracy: 0.4625 - val_loss: 2.4065 - val_accuracy: 0.4250\n",
            "Epoch 2/45\n",
            "15/15 [==============================] - 0s 4ms/step - loss: 0.9183 - accuracy: 0.6604 - val_loss: 1.2829 - val_accuracy: 0.6333\n",
            "Epoch 3/45\n",
            "15/15 [==============================] - 0s 4ms/step - loss: 0.5119 - accuracy: 0.8062 - val_loss: 1.2328 - val_accuracy: 0.6667\n",
            "Epoch 4/45\n",
            "15/15 [==============================] - 0s 4ms/step - loss: 0.4179 - accuracy: 0.7979 - val_loss: 0.8320 - val_accuracy: 0.7833\n",
            "Epoch 5/45\n",
            "15/15 [==============================] - 0s 5ms/step - loss: 0.3371 - accuracy: 0.8500 - val_loss: 0.7493 - val_accuracy: 0.7917\n",
            "Epoch 6/45\n",
            "15/15 [==============================] - 0s 4ms/step - loss: 0.3316 - accuracy: 0.8646 - val_loss: 0.4700 - val_accuracy: 0.8250\n",
            "Epoch 7/45\n",
            "15/15 [==============================] - 0s 4ms/step - loss: 0.2894 - accuracy: 0.8771 - val_loss: 0.8066 - val_accuracy: 0.7833\n",
            "Epoch 8/45\n",
            "15/15 [==============================] - 0s 4ms/step - loss: 0.3486 - accuracy: 0.8667 - val_loss: 0.4820 - val_accuracy: 0.8333\n",
            "Epoch 9/45\n",
            "15/15 [==============================] - 0s 4ms/step - loss: 0.2524 - accuracy: 0.9062 - val_loss: 0.3757 - val_accuracy: 0.8667\n",
            "Epoch 10/45\n",
            "15/15 [==============================] - 0s 4ms/step - loss: 0.2224 - accuracy: 0.9208 - val_loss: 0.2703 - val_accuracy: 0.8917\n",
            "Epoch 11/45\n",
            "15/15 [==============================] - 0s 5ms/step - loss: 0.2049 - accuracy: 0.9312 - val_loss: 0.2731 - val_accuracy: 0.9000\n",
            "Epoch 12/45\n",
            "15/15 [==============================] - 0s 5ms/step - loss: 0.1890 - accuracy: 0.9333 - val_loss: 0.3339 - val_accuracy: 0.8583\n",
            "Epoch 13/45\n",
            "15/15 [==============================] - 0s 5ms/step - loss: 0.1832 - accuracy: 0.9271 - val_loss: 0.2708 - val_accuracy: 0.8833\n",
            "Epoch 14/45\n",
            "15/15 [==============================] - 0s 4ms/step - loss: 0.1689 - accuracy: 0.9333 - val_loss: 0.3066 - val_accuracy: 0.8833\n",
            "Epoch 15/45\n",
            "15/15 [==============================] - 0s 4ms/step - loss: 0.1611 - accuracy: 0.9396 - val_loss: 0.2893 - val_accuracy: 0.8917\n",
            "Epoch 16/45\n",
            "15/15 [==============================] - 0s 4ms/step - loss: 0.3257 - accuracy: 0.8979 - val_loss: 0.2595 - val_accuracy: 0.9000\n",
            "Epoch 17/45\n",
            "15/15 [==============================] - 0s 4ms/step - loss: 0.2606 - accuracy: 0.9083 - val_loss: 0.4240 - val_accuracy: 0.8833\n",
            "Epoch 18/45\n",
            "15/15 [==============================] - 0s 5ms/step - loss: 0.1729 - accuracy: 0.9354 - val_loss: 0.3486 - val_accuracy: 0.8917\n",
            "Epoch 19/45\n",
            "15/15 [==============================] - 0s 4ms/step - loss: 0.1594 - accuracy: 0.9438 - val_loss: 0.3860 - val_accuracy: 0.9000\n",
            "Epoch 20/45\n",
            "15/15 [==============================] - 0s 4ms/step - loss: 0.1423 - accuracy: 0.9458 - val_loss: 0.3582 - val_accuracy: 0.8833\n",
            "Epoch 21/45\n",
            "15/15 [==============================] - 0s 5ms/step - loss: 0.1240 - accuracy: 0.9542 - val_loss: 0.3867 - val_accuracy: 0.8667\n",
            "Epoch 22/45\n",
            "15/15 [==============================] - 0s 5ms/step - loss: 0.1209 - accuracy: 0.9500 - val_loss: 0.8238 - val_accuracy: 0.8417\n",
            "Epoch 23/45\n",
            "15/15 [==============================] - 0s 4ms/step - loss: 0.1578 - accuracy: 0.9375 - val_loss: 1.0357 - val_accuracy: 0.8667\n",
            "Epoch 24/45\n",
            "15/15 [==============================] - 0s 4ms/step - loss: 0.2149 - accuracy: 0.9271 - val_loss: 0.2559 - val_accuracy: 0.9167\n",
            "Epoch 25/45\n",
            "15/15 [==============================] - 0s 4ms/step - loss: 0.1400 - accuracy: 0.9479 - val_loss: 0.3129 - val_accuracy: 0.8833\n",
            "Epoch 26/45\n",
            "15/15 [==============================] - 0s 4ms/step - loss: 0.1130 - accuracy: 0.9583 - val_loss: 0.8896 - val_accuracy: 0.8667\n",
            "Epoch 27/45\n",
            "15/15 [==============================] - 0s 4ms/step - loss: 0.1846 - accuracy: 0.9375 - val_loss: 0.8087 - val_accuracy: 0.8417\n",
            "Epoch 28/45\n",
            "15/15 [==============================] - 0s 4ms/step - loss: 0.1588 - accuracy: 0.9417 - val_loss: 0.5197 - val_accuracy: 0.8833\n",
            "Epoch 29/45\n",
            "15/15 [==============================] - 0s 4ms/step - loss: 0.1334 - accuracy: 0.9542 - val_loss: 0.8271 - val_accuracy: 0.8583\n",
            "Epoch 30/45\n",
            "15/15 [==============================] - 0s 4ms/step - loss: 0.1079 - accuracy: 0.9583 - val_loss: 0.3715 - val_accuracy: 0.8667\n",
            "Epoch 31/45\n",
            "15/15 [==============================] - 0s 4ms/step - loss: 0.0803 - accuracy: 0.9729 - val_loss: 0.4377 - val_accuracy: 0.8833\n",
            "Epoch 32/45\n",
            "15/15 [==============================] - 0s 4ms/step - loss: 0.0677 - accuracy: 0.9729 - val_loss: 0.4046 - val_accuracy: 0.8833\n",
            "Epoch 33/45\n",
            "15/15 [==============================] - 0s 4ms/step - loss: 0.0609 - accuracy: 0.9750 - val_loss: 0.4069 - val_accuracy: 0.8833\n",
            "Epoch 34/45\n",
            "15/15 [==============================] - 0s 4ms/step - loss: 0.0600 - accuracy: 0.9792 - val_loss: 0.3347 - val_accuracy: 0.8917\n",
            "Epoch 35/45\n",
            "15/15 [==============================] - 0s 4ms/step - loss: 0.0589 - accuracy: 0.9771 - val_loss: 0.6583 - val_accuracy: 0.8750\n",
            "Epoch 36/45\n",
            "15/15 [==============================] - 0s 4ms/step - loss: 0.0587 - accuracy: 0.9771 - val_loss: 0.7751 - val_accuracy: 0.8750\n",
            "Epoch 37/45\n",
            "15/15 [==============================] - 0s 4ms/step - loss: 0.0580 - accuracy: 0.9792 - val_loss: 1.2818 - val_accuracy: 0.8833\n",
            "Epoch 38/45\n",
            "15/15 [==============================] - 0s 4ms/step - loss: 0.7111 - accuracy: 0.8708 - val_loss: 2.7261 - val_accuracy: 0.7750\n",
            "Epoch 39/45\n",
            "15/15 [==============================] - 0s 4ms/step - loss: 0.6381 - accuracy: 0.8313 - val_loss: 0.4722 - val_accuracy: 0.8667\n",
            "Epoch 40/45\n",
            "15/15 [==============================] - 0s 5ms/step - loss: 0.3225 - accuracy: 0.8979 - val_loss: 0.5025 - val_accuracy: 0.8583\n",
            "Epoch 41/45\n",
            "15/15 [==============================] - 0s 4ms/step - loss: 0.1472 - accuracy: 0.9542 - val_loss: 0.3226 - val_accuracy: 0.9000\n",
            "Epoch 42/45\n",
            "15/15 [==============================] - 0s 4ms/step - loss: 0.0917 - accuracy: 0.9688 - val_loss: 0.3120 - val_accuracy: 0.9083\n",
            "Epoch 43/45\n",
            "15/15 [==============================] - 0s 4ms/step - loss: 0.0780 - accuracy: 0.9688 - val_loss: 0.3540 - val_accuracy: 0.9000\n",
            "Epoch 44/45\n",
            "15/15 [==============================] - 0s 4ms/step - loss: 0.0679 - accuracy: 0.9729 - val_loss: 0.4844 - val_accuracy: 0.8833\n",
            "Epoch 45/45\n",
            "15/15 [==============================] - 0s 4ms/step - loss: 0.0519 - accuracy: 0.9750 - val_loss: 0.5395 - val_accuracy: 0.8917\n"
          ]
        }
      ]
    },
    {
      "cell_type": "code",
      "source": [
        "model.evaluate(x_test_scaled, y_test)"
      ],
      "metadata": {
        "colab": {
          "base_uri": "https://localhost:8080/"
        },
        "id": "RjLK70y5q2jf",
        "outputId": "1841be5d-5093-4851-adea-61f815a25648"
      },
      "execution_count": 135,
      "outputs": [
        {
          "output_type": "stream",
          "name": "stdout",
          "text": [
            "5/5 [==============================] - 0s 3ms/step - loss: 1.0339 - accuracy: 0.9200\n"
          ]
        },
        {
          "output_type": "execute_result",
          "data": {
            "text/plain": [
              "[1.0338584184646606, 0.9200000166893005]"
            ]
          },
          "metadata": {},
          "execution_count": 135
        }
      ]
    },
    {
      "cell_type": "code",
      "source": [
        "preds = model.predict(x_test_scaled)"
      ],
      "metadata": {
        "colab": {
          "base_uri": "https://localhost:8080/"
        },
        "id": "RJJ3p-FVvTQk",
        "outputId": "0b551648-e331-43db-8285-802894d8274f"
      },
      "execution_count": 136,
      "outputs": [
        {
          "output_type": "stream",
          "name": "stdout",
          "text": [
            "5/5 [==============================] - 0s 3ms/step\n"
          ]
        }
      ]
    },
    {
      "cell_type": "code",
      "source": [
        "y_test"
      ],
      "metadata": {
        "colab": {
          "base_uri": "https://localhost:8080/"
        },
        "id": "UI78sK-EvvU0",
        "outputId": "8ba0535b-a220-4b4b-faab-521ab87522d2"
      },
      "execution_count": 137,
      "outputs": [
        {
          "output_type": "execute_result",
          "data": {
            "text/plain": [
              "array([0, 0, 1, 0, 0, 0, 0, 1, 0, 0, 1, 0, 0, 0, 1, 0, 1, 1, 0, 0, 0, 0,\n",
              "       0, 0, 1, 0, 1, 0, 1, 1, 0, 0, 0, 0, 0, 1, 1, 0, 1, 0, 1, 0, 1, 1,\n",
              "       0, 0, 0, 0, 0, 0, 1, 0, 0, 0, 0, 1, 0, 1, 0, 1, 0, 1, 0, 0, 0, 1,\n",
              "       0, 1, 0, 0, 0, 0, 0, 0, 0, 0, 0, 1, 1, 0, 1, 1, 0, 0, 1, 0, 0, 0,\n",
              "       0, 1, 0, 1, 0, 0, 1, 0, 0, 0, 1, 1, 1, 0, 1, 0, 1, 1, 0, 0, 0, 1,\n",
              "       0, 0, 1, 0, 0, 0, 0, 0, 0, 1, 0, 1, 0, 0, 0, 1, 1, 0, 0, 0, 1, 1,\n",
              "       1, 0, 0, 0, 1, 0, 1, 0, 0, 1, 0, 0, 1, 0, 1, 0, 0, 1])"
            ]
          },
          "metadata": {},
          "execution_count": 137
        }
      ]
    },
    {
      "cell_type": "code",
      "source": [
        "preds = (preds >= 0.5)"
      ],
      "metadata": {
        "id": "y1AZXjYXvw1P"
      },
      "execution_count": 138,
      "outputs": []
    },
    {
      "cell_type": "code",
      "source": [
        "from sklearn.metrics import classification_report, confusion_matrix, ConfusionMatrixDisplay\n",
        "import matplotlib.pyplot as plt\n",
        "\n",
        "cm = ConfusionMatrixDisplay(\n",
        "    confusion_matrix(\n",
        "        y_true=y_test,\n",
        "        y_pred=preds,\n",
        "        normalize='all'\n",
        "    ),\n",
        "    display_labels=['Spam', 'Ham'],\n",
        ")\n",
        "\n",
        "# Plot the confusion matrix with specified formatting\n",
        "cm.plot(\n",
        "    values_format='.2%',  # Display values as percentages with two decimal places\n",
        "    colorbar=False,  # Do not display the color bar\n",
        ")\n",
        "\n",
        "# Display the confusion matrix plot\n",
        "plt.show()"
      ],
      "metadata": {
        "colab": {
          "base_uri": "https://localhost:8080/",
          "height": 449
        },
        "id": "5DLe54DPviii",
        "outputId": "6bf2871a-1b47-4373-ad6c-5edda466a7a1"
      },
      "execution_count": 140,
      "outputs": [
        {
          "output_type": "display_data",
          "data": {
            "text/plain": [
              "<Figure size 640x480 with 1 Axes>"
            ],
            "image/png": "[encoded data removed]"
          },
          "metadata": {}
        }
      ]
    },
    {
      "cell_type": "code",
      "source": [
        "print(classification_report(y_test, preds, target_names=[\"Spam\", \"Ham\"]) )"
      ],
      "metadata": {
        "colab": {
          "base_uri": "https://localhost:8080/"
        },
        "id": "6mt_BPLfuTys",
        "outputId": "8db2107b-325e-47f3-cb43-40fa04ef25c5"
      },
      "execution_count": 141,
      "outputs": [
        {
          "output_type": "stream",
          "name": "stdout",
          "text": [
            "              precision    recall  f1-score   support\n",
            "\n",
            "        Spam       0.92      0.96      0.94        98\n",
            "         Ham       0.92      0.85      0.88        52\n",
            "\n",
            "    accuracy                           0.92       150\n",
            "   macro avg       0.92      0.90      0.91       150\n",
            "weighted avg       0.92      0.92      0.92       150\n",
            "\n"
          ]
        }
      ]
    },
    {
      "cell_type": "code",
      "source": [
        "model.save(\"spam_clf.keras\")"
      ],
      "metadata": {
        "id": "UHvRuWh0xepI"
      },
      "execution_count": 142,
      "outputs": []
    }
  ]
}